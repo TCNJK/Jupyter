{
 "cells": [
  {
   "cell_type": "code",
   "execution_count": 1,
   "metadata": {},
   "outputs": [],
   "source": [
    "# Redefining the structure to extract questions and answers correctly\n",
    "questions_with_options = []\n",
    "\n",
    "# Locate all question blocks\n",
    "question_blocks = soup.find_all(\"div\", class_=\"rc-FormPartsQuestion\")\n",
    "\n",
    "for block in question_blocks:\n",
    "    # Extract the question text from the first content cell\n",
    "    content_cells = block.find_all(\"div\", class_=\"rc-FormPartsQuestion__contentCell\")\n",
    "    if len(content_cells) < 2:\n",
    "        continue  # Skip if there's not enough data\n",
    "\n",
    "    question_text = content_cells[0].get_text(strip=True)\n",
    "\n",
    "    # Extract options from the second content cell\n",
    "    options_block = content_cells[1]\n",
    "    option_elements = options_block.find_all(\"div\", class_=\"rc-Option--isReadOnly\")\n",
    "    options_texts = []\n",
    "    correct_answer = None\n",
    "\n",
    "    for option_element in option_elements:\n",
    "        option_text = option_element.find(\"div\", class_=\"rc-Option__input-text\").get_text(strip=True)\n",
    "        input_element = option_element.find(\"input\", {\"type\": \"radio\"})\n",
    "        \n",
    "        if input_element and input_element.has_attr(\"checked\"):\n",
    "            correct_answer = option_text\n",
    "\n",
    "        options_texts.append(option_text)\n",
    "\n",
    "    # Format the question and the correct answer\n",
    "    formatted_question = f\"{question_text}\\n\" + \"\\n\".join(\n",
    "        [f\"{chr(65+i)}. {opt}\" for i, opt in enumerate(options_texts)]\n",
    "    )\n",
    "    if correct_answer:\n",
    "        formatted_question += f\"\\nAnswer: {correct_answer}\"\n",
    "    else:\n",
    "        formatted_question += \"\\nAnswer: No answer found\"\n",
    "    \n",
    "    questions_with_options.append(formatted_question)\n",
    "\n",
    "# Join all questions and answers into a single output string\n",
    "final_output = \"\\n\\n\".join(questions_with_options)\n",
    "final_output\n"
   ]
  },
  {
   "cell_type": "code",
   "execution_count": 3,
   "metadata": {},
   "outputs": [
    {
     "name": "stdout",
     "output_type": "stream",
     "text": [
      "1\n"
     ]
    }
   ],
   "source": [
    "a = 2\n",
    "print(1 if a else 0)"
   ]
  }
 ],
 "metadata": {
  "kernelspec": {
   "display_name": "Python 3",
   "language": "python",
   "name": "python3"
  },
  "language_info": {
   "codemirror_mode": {
    "name": "ipython",
    "version": 3
   },
   "file_extension": ".py",
   "mimetype": "text/x-python",
   "name": "python",
   "nbconvert_exporter": "python",
   "pygments_lexer": "ipython3",
   "version": "3.11.9"
  }
 },
 "nbformat": 4,
 "nbformat_minor": 2
}
