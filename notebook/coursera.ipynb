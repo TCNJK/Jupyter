{
 "cells": [
  {
   "cell_type": "markdown",
   "metadata": {},
   "source": [
    "read html of coursera cover to quiz txt"
   ]
  },
  {
   "cell_type": "code",
   "execution_count": 12,
   "metadata": {},
   "outputs": [
    {
     "name": "stdout",
     "output_type": "stream",
     "text": [
      "All data has been written to D:/Code/Python/Jupyter/notebook/all_questions_output.txt\n"
     ]
    }
   ],
   "source": [
    "# read html\n",
    "import os\n",
    "from bs4 import BeautifulSoup\n",
    "\n",
    "# Define the directory containing the HTML files\n",
    "directory_path = \"D:/Code/Python/Jupyter/notebook/quiz\"\n",
    "\n",
    "# Define the path for the output text file\n",
    "output_file_path = \"D:/Code/Python/Jupyter/notebook/all_questions_output.txt\"\n",
    "\n",
    "# Initialize the list to store formatted questions and answers\n",
    "all_questions_with_options = []\n",
    "\n",
    "# Loop through all files in the directory\n",
    "for filename in os.listdir(directory_path):\n",
    "    if filename.endswith(\".html\"):\n",
    "        file_path = os.path.join(directory_path, filename)\n",
    "\n",
    "        # Load the HTML content\n",
    "        with open(file_path, \"r\", encoding=\"utf-8\") as file:\n",
    "            html_content = file.read()\n",
    "\n",
    "        # Parse the HTML\n",
    "        soup = BeautifulSoup(html_content, \"html.parser\")\n",
    "\n",
    "        # Locate all question blocks\n",
    "        question_blocks = soup.find_all(\"div\", class_=\"rc-FormPartsQuestion\")\n",
    "\n",
    "        for idx, block in enumerate(question_blocks, 1):\n",
    "            # Extract the question text from the first content cell\n",
    "            content_cells = block.find_all(\"div\", class_=\"rc-FormPartsQuestion__contentCell\")\n",
    "            if len(content_cells) < 2:\n",
    "                continue  # Skip if there's not enough data\n",
    "\n",
    "            question_text = content_cells[0].get_text(\" \", strip=True)\n",
    "\n",
    "            # Extract options from the second content cell\n",
    "            options_block = content_cells[1]\n",
    "            option_elements = options_block.find_all(\"div\", class_=\"rc-Option--isReadOnly\")\n",
    "            options_texts = []\n",
    "            correct_answers = []\n",
    "\n",
    "            for i, option_element in enumerate(option_elements):\n",
    "                option_text = option_element.find(\"div\", class_=\"rc-Option__input-text\").get_text(\" \", strip=True)\n",
    "                input_element = option_element.find(\"input\")\n",
    "                \n",
    "                if input_element and input_element.has_attr(\"checked\"):\n",
    "                    correct_answers.append(chr(65 + i))\n",
    "\n",
    "                options_texts.append(option_text)\n",
    "\n",
    "            # Remove the .html extension from the filename\n",
    "            clean_filename = os.path.splitext(filename)[0]\n",
    "\n",
    "            # Format the question and the correct answer(s)\n",
    "            formatted_question = f\"{clean_filename} Q{idx}: {question_text} \" + \" \".join(\n",
    "                [f\"\\n{chr(65+i)}. {opt}\" for i, opt in enumerate(options_texts)]\n",
    "            )\n",
    "            if correct_answers:\n",
    "                formatted_question += f\" Answer: {', '.join(correct_answers)}\"\n",
    "            else:\n",
    "                formatted_question += \" Answer: No answer found\"\n",
    "            \n",
    "            all_questions_with_options.append(formatted_question)\n",
    "\n",
    "# Write all formatted questions and answers to the text file\n",
    "with open(output_file_path, \"w\", encoding=\"utf-8\") as f:\n",
    "    for question in all_questions_with_options:\n",
    "        f.write(f\"{question}\\n\\n\\n\")\n",
    "\n",
    "print(f\"All data has been written to {output_file_path}\")\n"
   ]
  },
  {
   "cell_type": "markdown",
   "metadata": {},
   "source": [
    "read text from image or clipboard and translate to vietnamese"
   ]
  },
  {
   "cell_type": "code",
   "execution_count": 24,
   "metadata": {},
   "outputs": [
    {
     "name": "stdout",
     "output_type": "stream",
     "text": [
      "Extracted text saved to extracted_text.txt \n",
      "MOOC1_QUIZ3 Q1: Phần \"Tầm nhìn trung tâm\" của trường nhìn của con người, trong đó mọi người có thể đọc văn bản và nhận ra chi tiết trong hình ảnh, xấp xỉ bao nhiêu?\n"
     ]
    }
   ],
   "source": [
    "from PIL import ImageGrab\n",
    "import pyperclip\n",
    "from googletrans import Translator\n",
    "import pytesseract\n",
    "\n",
    "# Function to capture image from clipboard and perform OCR\n",
    "def ocr_from_clipboard(output_text_path):\n",
    "    # Capture the image from the clipboard\n",
    "    image = ImageGrab.grabclipboard()\n",
    "    \n",
    "    if image:\n",
    "        # Use Tesseract to extract text\n",
    "        extracted_text = pytesseract.image_to_string(image, config='--psm 6')\n",
    "    else: \n",
    "        extracted_text = pyperclip.paste()\n",
    "    \n",
    "    if not extracted_text:\n",
    "        print(\"No text/image found in clipboard.\")\n",
    "        return\n",
    "    translator = Translator()\n",
    "    \n",
    "    translated = translator.translate(extracted_text, dest='vi')\n",
    "    # Save the extracted text to a file\n",
    "    with open(output_text_path, \"w\", encoding=\"utf-8\") as text_file:\n",
    "        text_file.write(translated.text)\n",
    "    \n",
    "    print(f\"Extracted text saved to {output_text_path} \\n{translated.text}\")\n",
    "\n",
    "# Specify the output text file path\n",
    "output_text_path = \"extracted_text.txt\"\n",
    "\n",
    "# Perform OCR from clipboard image\n",
    "ocr_from_clipboard(output_text_path)\n"
   ]
  }
 ],
 "metadata": {
  "kernelspec": {
   "display_name": "venv",
   "language": "python",
   "name": "python3"
  },
  "language_info": {
   "codemirror_mode": {
    "name": "ipython",
    "version": 3
   },
   "file_extension": ".py",
   "mimetype": "text/x-python",
   "name": "python",
   "nbconvert_exporter": "python",
   "pygments_lexer": "ipython3",
   "version": "3.11.9"
  }
 },
 "nbformat": 4,
 "nbformat_minor": 2
}
